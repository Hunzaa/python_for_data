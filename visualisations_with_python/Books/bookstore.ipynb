{
 "cells": [
  {
   "cell_type": "markdown",
   "id": "c28740b1-08d6-4b25-b4ac-d6548e2f6ec6",
   "metadata": {},
   "source": [
    "# About My Bookstore Notebook"
   ]
  },
  {
   "cell_type": "markdown",
   "id": "771a43f8-3c59-48c2-b335-50ada5117a70",
   "metadata": {},
   "source": [
    "This notebook is like a little tour of a virtual bookstore. Its just a fun, simple look into reader habits around the world.\n",
    "\n",
    "You can find answers to questions like:\n",
    "\n",
    "- What are the most loved books?\n",
    "- Who are the readers? Were are they from and how old are they?\n",
    "- Which authors are popular with different age groups?\n",
    "- Do different countries enjoy the same books?\n",
    "\n",
    "Need a book suggestion? There’s even a mini book recommender. \n"
   ]
  },
  {
   "cell_type": "markdown",
   "id": "eb046de7-81d4-41c2-af83-d95c558a487e",
   "metadata": {},
   "source": [
    "## Libraries"
   ]
  },
  {
   "cell_type": "code",
   "execution_count": 32,
   "id": "16db3f01-bf10-434d-ab8e-5112ad2403c5",
   "metadata": {},
   "outputs": [],
   "source": [
    "import numpy as np\n",
    "import pandas as pd\n",
    "import seaborn as sns\n",
    "import matplotlib. pyplot as plt\n",
    "from IPython.display import Image, display"
   ]
  },
  {
   "cell_type": "markdown",
   "id": "bd4c3ba6-a32b-46e0-873a-71f30b72934f",
   "metadata": {},
   "source": [
    "## 1. Loading Data\n",
    "Books, Users & Ratings"
   ]
  },
  {
   "cell_type": "code",
   "execution_count": 33,
   "id": "1ce3fcb9-7d38-4ff6-8d3e-c47a3c145ebc",
   "metadata": {},
   "outputs": [],
   "source": [
    "books = pd.read_csv(\"Books.csv\", encoding='latin-1', delimiter=';')\n",
    "users = pd.read_csv(\"Users.csv\", encoding='latin-1',delimiter=';')\n",
    "ratings = pd.read_csv(\"Book-Ratings.csv\", encoding='latin-1', delimiter=';')\n",
    "\n",
    "# using delimiter=';' because the file uses semicolons instead of commas\n",
    "# using encoding='latin-1' so Pandas doesn't crash when it sees special characters in the text"
   ]
  },
  {
   "cell_type": "markdown",
   "id": "df68755a-2b88-4e6e-b648-fb70a6301a05",
   "metadata": {},
   "source": [
    "## 2. Getting to Know the Data Tables"
   ]
  },
  {
   "cell_type": "markdown",
   "id": "8231ec53-62e5-46ce-848f-297182832675",
   "metadata": {},
   "source": [
    "#### Exploring the shape of data to see number of entries in each table"
   ]
  },
  {
   "cell_type": "code",
   "execution_count": 34,
   "id": "cb283fa9-88ac-47b2-885a-565cdd6fd50e",
   "metadata": {},
   "outputs": [
    {
     "name": "stdout",
     "output_type": "stream",
     "text": [
      "Books: 271379 entries\n",
      "Users: 278858 entries\n",
      "Ratings: 1149780 ratings\n"
     ]
    }
   ],
   "source": [
    "# exploring the sahape of data to indetify no of entries \n",
    "print(\"Books:\", books.shape[0], \"entries\")\n",
    "print(\"Users:\", users.shape[0], \"entries\")\n",
    "print(\"Ratings:\",ratings.shape[0], \"ratings\")"
   ]
  },
  {
   "cell_type": "markdown",
   "id": "2e616e89-f53d-48c4-baf4-1f49a4b9e866",
   "metadata": {},
   "source": [
    "#### Having a closer look at tables to understand the structure and columns  "
   ]
  },
  {
   "cell_type": "code",
   "execution_count": 35,
   "id": "21c9db00-fc67-4247-bdb8-4abe083bba25",
   "metadata": {},
   "outputs": [
    {
     "name": "stdout",
     "output_type": "stream",
     "text": [
      "\n",
      "Books\n",
      "\n"
     ]
    },
    {
     "data": {
      "text/html": [
       "<div>\n",
       "<style scoped>\n",
       "    .dataframe tbody tr th:only-of-type {\n",
       "        vertical-align: middle;\n",
       "    }\n",
       "\n",
       "    .dataframe tbody tr th {\n",
       "        vertical-align: top;\n",
       "    }\n",
       "\n",
       "    .dataframe thead th {\n",
       "        text-align: right;\n",
       "    }\n",
       "</style>\n",
       "<table border=\"1\" class=\"dataframe\">\n",
       "  <thead>\n",
       "    <tr style=\"text-align: right;\">\n",
       "      <th></th>\n",
       "      <th>ISBN</th>\n",
       "      <th>Book-Title</th>\n",
       "      <th>Book-Author</th>\n",
       "      <th>Year-Of-Publication</th>\n",
       "      <th>Publisher</th>\n",
       "      <th>Image-URL-S</th>\n",
       "      <th>Image-URL-M</th>\n",
       "      <th>Image-URL-L</th>\n",
       "    </tr>\n",
       "  </thead>\n",
       "  <tbody>\n",
       "    <tr>\n",
       "      <th>0</th>\n",
       "      <td>0195153448</td>\n",
       "      <td>Classical Mythology</td>\n",
       "      <td>Mark P. O. Morford</td>\n",
       "      <td>2002</td>\n",
       "      <td>Oxford University Press</td>\n",
       "      <td>http://images.amazon.com/images/P/0195153448.0...</td>\n",
       "      <td>http://images.amazon.com/images/P/0195153448.0...</td>\n",
       "      <td>http://images.amazon.com/images/P/0195153448.0...</td>\n",
       "    </tr>\n",
       "    <tr>\n",
       "      <th>1</th>\n",
       "      <td>0002005018</td>\n",
       "      <td>Clara Callan</td>\n",
       "      <td>Richard Bruce Wright</td>\n",
       "      <td>2001</td>\n",
       "      <td>HarperFlamingo Canada</td>\n",
       "      <td>http://images.amazon.com/images/P/0002005018.0...</td>\n",
       "      <td>http://images.amazon.com/images/P/0002005018.0...</td>\n",
       "      <td>http://images.amazon.com/images/P/0002005018.0...</td>\n",
       "    </tr>\n",
       "    <tr>\n",
       "      <th>2</th>\n",
       "      <td>0060973129</td>\n",
       "      <td>Decision in Normandy</td>\n",
       "      <td>Carlo D'Este</td>\n",
       "      <td>1991</td>\n",
       "      <td>HarperPerennial</td>\n",
       "      <td>http://images.amazon.com/images/P/0060973129.0...</td>\n",
       "      <td>http://images.amazon.com/images/P/0060973129.0...</td>\n",
       "      <td>http://images.amazon.com/images/P/0060973129.0...</td>\n",
       "    </tr>\n",
       "  </tbody>\n",
       "</table>\n",
       "</div>"
      ],
      "text/plain": [
       "         ISBN            Book-Title           Book-Author  \\\n",
       "0  0195153448   Classical Mythology    Mark P. O. Morford   \n",
       "1  0002005018          Clara Callan  Richard Bruce Wright   \n",
       "2  0060973129  Decision in Normandy          Carlo D'Este   \n",
       "\n",
       "   Year-Of-Publication                Publisher  \\\n",
       "0                 2002  Oxford University Press   \n",
       "1                 2001    HarperFlamingo Canada   \n",
       "2                 1991          HarperPerennial   \n",
       "\n",
       "                                         Image-URL-S  \\\n",
       "0  http://images.amazon.com/images/P/0195153448.0...   \n",
       "1  http://images.amazon.com/images/P/0002005018.0...   \n",
       "2  http://images.amazon.com/images/P/0060973129.0...   \n",
       "\n",
       "                                         Image-URL-M  \\\n",
       "0  http://images.amazon.com/images/P/0195153448.0...   \n",
       "1  http://images.amazon.com/images/P/0002005018.0...   \n",
       "2  http://images.amazon.com/images/P/0060973129.0...   \n",
       "\n",
       "                                         Image-URL-L  \n",
       "0  http://images.amazon.com/images/P/0195153448.0...  \n",
       "1  http://images.amazon.com/images/P/0002005018.0...  \n",
       "2  http://images.amazon.com/images/P/0060973129.0...  "
      ]
     },
     "execution_count": 35,
     "metadata": {},
     "output_type": "execute_result"
    }
   ],
   "source": [
    "print(\"\\nBooks\\n\")\n",
    "books.head(3)"
   ]
  },
  {
   "cell_type": "code",
   "execution_count": 36,
   "id": "834ca3c3-59e1-43e8-b7b7-61a32e23af3a",
   "metadata": {},
   "outputs": [
    {
     "name": "stdout",
     "output_type": "stream",
     "text": [
      "\n",
      "Users\n",
      "\n"
     ]
    },
    {
     "data": {
      "text/html": [
       "<div>\n",
       "<style scoped>\n",
       "    .dataframe tbody tr th:only-of-type {\n",
       "        vertical-align: middle;\n",
       "    }\n",
       "\n",
       "    .dataframe tbody tr th {\n",
       "        vertical-align: top;\n",
       "    }\n",
       "\n",
       "    .dataframe thead th {\n",
       "        text-align: right;\n",
       "    }\n",
       "</style>\n",
       "<table border=\"1\" class=\"dataframe\">\n",
       "  <thead>\n",
       "    <tr style=\"text-align: right;\">\n",
       "      <th></th>\n",
       "      <th>User-ID</th>\n",
       "      <th>Location</th>\n",
       "      <th>Age</th>\n",
       "    </tr>\n",
       "  </thead>\n",
       "  <tbody>\n",
       "    <tr>\n",
       "      <th>0</th>\n",
       "      <td>1</td>\n",
       "      <td>nyc, new york, usa</td>\n",
       "      <td>NaN</td>\n",
       "    </tr>\n",
       "    <tr>\n",
       "      <th>1</th>\n",
       "      <td>2</td>\n",
       "      <td>stockton, california, usa</td>\n",
       "      <td>18.0</td>\n",
       "    </tr>\n",
       "    <tr>\n",
       "      <th>2</th>\n",
       "      <td>3</td>\n",
       "      <td>moscow, yukon territory, russia</td>\n",
       "      <td>NaN</td>\n",
       "    </tr>\n",
       "    <tr>\n",
       "      <th>3</th>\n",
       "      <td>4</td>\n",
       "      <td>porto, v.n.gaia, portugal</td>\n",
       "      <td>17.0</td>\n",
       "    </tr>\n",
       "    <tr>\n",
       "      <th>4</th>\n",
       "      <td>5</td>\n",
       "      <td>farnborough, hants, united kingdom</td>\n",
       "      <td>NaN</td>\n",
       "    </tr>\n",
       "  </tbody>\n",
       "</table>\n",
       "</div>"
      ],
      "text/plain": [
       "   User-ID                            Location   Age\n",
       "0        1                  nyc, new york, usa   NaN\n",
       "1        2           stockton, california, usa  18.0\n",
       "2        3     moscow, yukon territory, russia   NaN\n",
       "3        4           porto, v.n.gaia, portugal  17.0\n",
       "4        5  farnborough, hants, united kingdom   NaN"
      ]
     },
     "execution_count": 36,
     "metadata": {},
     "output_type": "execute_result"
    }
   ],
   "source": [
    "print(\"\\nUsers\\n\")\n",
    "users.head(5)"
   ]
  },
  {
   "cell_type": "code",
   "execution_count": 37,
   "id": "22c8550e-bc62-45e8-90dc-b1543b288261",
   "metadata": {},
   "outputs": [
    {
     "name": "stdout",
     "output_type": "stream",
     "text": [
      "\n",
      "Ratings\n",
      "\n"
     ]
    },
    {
     "data": {
      "text/html": [
       "<div>\n",
       "<style scoped>\n",
       "    .dataframe tbody tr th:only-of-type {\n",
       "        vertical-align: middle;\n",
       "    }\n",
       "\n",
       "    .dataframe tbody tr th {\n",
       "        vertical-align: top;\n",
       "    }\n",
       "\n",
       "    .dataframe thead th {\n",
       "        text-align: right;\n",
       "    }\n",
       "</style>\n",
       "<table border=\"1\" class=\"dataframe\">\n",
       "  <thead>\n",
       "    <tr style=\"text-align: right;\">\n",
       "      <th></th>\n",
       "      <th>User-ID</th>\n",
       "      <th>ISBN</th>\n",
       "      <th>Book-Rating</th>\n",
       "    </tr>\n",
       "  </thead>\n",
       "  <tbody>\n",
       "    <tr>\n",
       "      <th>0</th>\n",
       "      <td>276725</td>\n",
       "      <td>034545104X</td>\n",
       "      <td>0</td>\n",
       "    </tr>\n",
       "    <tr>\n",
       "      <th>1</th>\n",
       "      <td>276726</td>\n",
       "      <td>0155061224</td>\n",
       "      <td>5</td>\n",
       "    </tr>\n",
       "    <tr>\n",
       "      <th>2</th>\n",
       "      <td>276727</td>\n",
       "      <td>0446520802</td>\n",
       "      <td>0</td>\n",
       "    </tr>\n",
       "    <tr>\n",
       "      <th>3</th>\n",
       "      <td>276729</td>\n",
       "      <td>052165615X</td>\n",
       "      <td>3</td>\n",
       "    </tr>\n",
       "    <tr>\n",
       "      <th>4</th>\n",
       "      <td>276729</td>\n",
       "      <td>0521795028</td>\n",
       "      <td>6</td>\n",
       "    </tr>\n",
       "    <tr>\n",
       "      <th>...</th>\n",
       "      <td>...</td>\n",
       "      <td>...</td>\n",
       "      <td>...</td>\n",
       "    </tr>\n",
       "    <tr>\n",
       "      <th>1149775</th>\n",
       "      <td>276704</td>\n",
       "      <td>1563526298</td>\n",
       "      <td>9</td>\n",
       "    </tr>\n",
       "    <tr>\n",
       "      <th>1149776</th>\n",
       "      <td>276706</td>\n",
       "      <td>0679447156</td>\n",
       "      <td>0</td>\n",
       "    </tr>\n",
       "    <tr>\n",
       "      <th>1149777</th>\n",
       "      <td>276709</td>\n",
       "      <td>0515107662</td>\n",
       "      <td>10</td>\n",
       "    </tr>\n",
       "    <tr>\n",
       "      <th>1149778</th>\n",
       "      <td>276721</td>\n",
       "      <td>0590442449</td>\n",
       "      <td>10</td>\n",
       "    </tr>\n",
       "    <tr>\n",
       "      <th>1149779</th>\n",
       "      <td>276723</td>\n",
       "      <td>05162443314</td>\n",
       "      <td>8</td>\n",
       "    </tr>\n",
       "  </tbody>\n",
       "</table>\n",
       "<p>1149780 rows × 3 columns</p>\n",
       "</div>"
      ],
      "text/plain": [
       "         User-ID         ISBN  Book-Rating\n",
       "0         276725   034545104X            0\n",
       "1         276726   0155061224            5\n",
       "2         276727   0446520802            0\n",
       "3         276729   052165615X            3\n",
       "4         276729   0521795028            6\n",
       "...          ...          ...          ...\n",
       "1149775   276704   1563526298            9\n",
       "1149776   276706   0679447156            0\n",
       "1149777   276709   0515107662           10\n",
       "1149778   276721   0590442449           10\n",
       "1149779   276723  05162443314            8\n",
       "\n",
       "[1149780 rows x 3 columns]"
      ]
     },
     "execution_count": 37,
     "metadata": {},
     "output_type": "execute_result"
    }
   ],
   "source": [
    "print(\"\\nRatings\\n\")\n",
    "ratings"
   ]
  },
  {
   "cell_type": "markdown",
   "id": "7dd997e9-7b93-4620-a807-715ff876e2d1",
   "metadata": {},
   "source": [
    "## 3. Looking for Missing or Messy Data"
   ]
  },
  {
   "cell_type": "markdown",
   "id": "403c55be-bfea-4141-889a-01e10d7d31d0",
   "metadata": {},
   "source": [
    "#### Missing Values"
   ]
  },
  {
   "cell_type": "code",
   "execution_count": 38,
   "id": "95b839c9-5033-46c5-9d73-4f2cda132711",
   "metadata": {},
   "outputs": [
    {
     "name": "stdout",
     "output_type": "stream",
     "text": [
      "\n",
      "Books: 4 missing values\n",
      "Users: 110762 missing values\n",
      "Ratings: 0 missing values\n",
      "\n"
     ]
    }
   ],
   "source": [
    "print(\"\\nBooks:\", books.isna().sum().sum(), \"missing values\")\n",
    "print(\"Users:\", users.isna().sum().sum(), \"missing values\")\n",
    "print(\"Ratings:\", ratings.isna().sum().sum(), \"missing values\\n\")"
   ]
  },
  {
   "cell_type": "markdown",
   "id": "09a18b32-3a47-47b2-b0ab-c29679132d53",
   "metadata": {},
   "source": [
    "#### Sum of nan values to see where missing values are"
   ]
  },
  {
   "cell_type": "code",
   "execution_count": 39,
   "id": "c6a48a4f-3b32-44f6-92ac-d43931f4c060",
   "metadata": {},
   "outputs": [
    {
     "name": "stdout",
     "output_type": "stream",
     "text": [
      "ISBN                   0\n",
      "Book-Title             0\n",
      "Book-Author            2\n",
      "Year-Of-Publication    0\n",
      "Publisher              2\n",
      "Image-URL-S            0\n",
      "Image-URL-M            0\n",
      "Image-URL-L            0\n",
      "dtype: int64\n"
     ]
    }
   ],
   "source": [
    "print(books.isna().sum()) "
   ]
  },
  {
   "cell_type": "code",
   "execution_count": 40,
   "id": "110a4a0e-3cd9-4cf7-9f41-2ff0d0c51d26",
   "metadata": {},
   "outputs": [
    {
     "name": "stdout",
     "output_type": "stream",
     "text": [
      "User-ID          0\n",
      "Location         0\n",
      "Age         110762\n",
      "dtype: int64\n"
     ]
    }
   ],
   "source": [
    "print(users.isna().sum())"
   ]
  },
  {
   "cell_type": "code",
   "execution_count": 41,
   "id": "4407a2a1-4d18-4d57-a376-8ccc841066da",
   "metadata": {},
   "outputs": [
    {
     "name": "stdout",
     "output_type": "stream",
     "text": [
      "User-ID        0\n",
      "ISBN           0\n",
      "Book-Rating    0\n",
      "dtype: int64\n"
     ]
    }
   ],
   "source": [
    "print(ratings.isna().sum())"
   ]
  },
  {
   "cell_type": "markdown",
   "id": "80f4c94a-041a-4b25-aae3-ab4db17da3d1",
   "metadata": {},
   "source": [
    "#### Duplicates"
   ]
  },
  {
   "cell_type": "code",
   "execution_count": 42,
   "id": "1f034f88-e753-42dc-a0a6-4c786806e63e",
   "metadata": {},
   "outputs": [
    {
     "name": "stdout",
     "output_type": "stream",
     "text": [
      "Books: 0 duplicates\n",
      "Users: 0 duplicates\n",
      "Ratings: 0 duplicates\n",
      "\n"
     ]
    }
   ],
   "source": [
    "print(\"Books:\", books.duplicated().sum(), \"duplicates\")\n",
    "print(\"Users:\", users.duplicated().sum(), \"duplicates\")\n",
    "print(\"Ratings:\", ratings.duplicated().sum(), \"duplicates\\n\")"
   ]
  },
  {
   "cell_type": "markdown",
   "id": "ef09b1d6-0898-41e3-8b72-dc445c496f8f",
   "metadata": {},
   "source": [
    "## 4. Cleaning Up: Filling or Fixing Missing Data"
   ]
  },
  {
   "cell_type": "markdown",
   "id": "092fd4f1-4516-4920-bd95-fb526d30b312",
   "metadata": {},
   "source": [
    "#### Filling empty cells in books with \"Unknown\""
   ]
  },
  {
   "cell_type": "code",
   "execution_count": 43,
   "id": "49b9ca98-7ca5-4dd8-b6aa-ef00157ac913",
   "metadata": {},
   "outputs": [
    {
     "name": "stdout",
     "output_type": "stream",
     "text": [
      "ISBN                   0\n",
      "Book-Title             0\n",
      "Book-Author            0\n",
      "Year-Of-Publication    0\n",
      "Publisher              0\n",
      "Image-URL-S            0\n",
      "Image-URL-M            0\n",
      "Image-URL-L            0\n",
      "dtype: int64\n"
     ]
    }
   ],
   "source": [
    "books[\"Book-Author\"] = books[\"Book-Author\"].fillna(\"Unknown\")\n",
    "books[\"Publisher\"] = books[\"Publisher\"].fillna(\"Unknown\")\n",
    "# or \n",
    "# books = books.fillna(\"Unknown\")\n",
    "print(books.isna().sum()) "
   ]
  },
  {
   "cell_type": "markdown",
   "id": "41ca640d-13ef-43b8-82a4-ae312a0d34b6",
   "metadata": {},
   "source": [
    "#### Filling empty cells in user age with Median \n",
    "Could have dropped but there are 110762 nans, dropping them will disrupt analysis."
   ]
  },
  {
   "cell_type": "code",
   "execution_count": 44,
   "id": "6a25a135-1411-4c12-acfb-ab9000add56d",
   "metadata": {},
   "outputs": [
    {
     "name": "stdout",
     "output_type": "stream",
     "text": [
      "User-ID     0\n",
      "Location    0\n",
      "Age         0\n",
      "dtype: int64\n"
     ]
    }
   ],
   "source": [
    "users[\"Age\"] = users[\"Age\"].fillna(users[\"Age\"].median())\n",
    "print(users.isna().sum()) "
   ]
  },
  {
   "cell_type": "markdown",
   "id": "aff0d8c2-1d18-475c-aeb8-3154a86dc421",
   "metadata": {},
   "source": [
    "## 5. What are people reading the most?"
   ]
  },
  {
   "cell_type": "markdown",
   "id": "b0ca40e5-a9e1-4774-bbd1-a19d8a611bb4",
   "metadata": {},
   "source": [
    "#### Top 5 Highest Rated Books"
   ]
  },
  {
   "cell_type": "code",
   "execution_count": 45,
   "id": "a519e616-fe45-4838-8b72-7413688fef4e",
   "metadata": {},
   "outputs": [
    {
     "name": "stdout",
     "output_type": "stream",
     "text": [
      "ISBN\n",
      "0316666343    707\n",
      "0971880107    581\n",
      "0385504209    487\n",
      "0312195516    383\n",
      "0679781587    333\n",
      "Name: Book-Rating, dtype: int64\n"
     ]
    }
   ],
   "source": [
    "rated_books = ratings[ratings[\"Book-Rating\"] > 0]\n",
    "highest_rated_books = rated_books.groupby(\"ISBN\")[\"Book-Rating\"].count() # group by ISBN and count\n",
    "highest_rated_books = highest_rated_books.sort_values(ascending=False) # sort by count\n",
    "\n",
    "print(highest_rated_books.head(5))"
   ]
  },
  {
   "cell_type": "markdown",
   "id": "efb650af-d946-4258-a7a2-dc38f06f15ab",
   "metadata": {},
   "source": [
    "#### Top 5 Highest Rated Books (with Book Title, Author, and Image)\n",
    "Using merge to joing two tables"
   ]
  },
  {
   "cell_type": "code",
   "execution_count": 46,
   "id": "749ae049-18a1-4912-9c40-7c4c1621ae93",
   "metadata": {},
   "outputs": [
    {
     "name": "stdout",
     "output_type": "stream",
     "text": [
      "         ISBN  NoOfRatings                           Book-Title    Book-Author\n",
      "0  0316666343          707            The Lovely Bones: A Novel   Alice Sebold\n",
      "1  0971880107          581                          Wild Animus   Rich Shapero\n",
      "2  0385504209          487                    The Da Vinci Code      Dan Brown\n",
      "3  0312195516          383  The Red Tent (Bestselling Backlist)  Anita Diamant\n",
      "4  0679781587          333                                  NaN            NaN\n"
     ]
    }
   ],
   "source": [
    "# doing the same thing but joining details from Book table \n",
    "rated_books = ratings[ratings[\"Book-Rating\"] > 0]\n",
    "highest_rated_books = rated_books.groupby(\"ISBN\")[\"Book-Rating\"].count()\n",
    "highest_rated_books = highest_rated_books.sort_values(ascending=False)\n",
    "\n",
    "highest_rated_books = highest_rated_books.reset_index() # reseting isbn from an idex to a column\n",
    "highest_rated_books = highest_rated_books.merge(books[[\"ISBN\", \"Book-Title\", \"Book-Author\"]], \n",
    "                                              on=\"ISBN\", how=\"left\") # joining \n",
    "\n",
    "highest_rated_books = highest_rated_books.rename(columns={\"Book-Rating\": \"NoOfRatings\"}) #rename\n",
    "\n",
    "print(highest_rated_books.head(5))"
   ]
  },
  {
   "cell_type": "markdown",
   "id": "b24a4344-64c5-4d99-abf1-ce76f8c876a1",
   "metadata": {},
   "source": [
    "#### Top 5 Book with Covers"
   ]
  },
  {
   "cell_type": "code",
   "execution_count": 47,
   "id": "83b31712-7579-4d95-8a14-1ffba98e38b8",
   "metadata": {},
   "outputs": [],
   "source": [
    "# doing the same thing but joining details from Book table with Image\n",
    "rated_books = ratings[ratings[\"Book-Rating\"] > 0]\n",
    "highest_rated_books = rated_books.groupby(\"ISBN\")[\"Book-Rating\"].count()\n",
    "highest_rated_books = highest_rated_books.sort_values(ascending=False)\n",
    "\n",
    "highest_rated_books = highest_rated_books.reset_index() # reseting isbn from an idex to a column\n",
    "highest_rated_books = highest_rated_books.merge(books[[\"ISBN\", \"Book-Title\", \"Book-Author\", \"Image-URL-M\"]], \n",
    "                                              on=\"ISBN\", how=\"left\") # joining\n",
    "highest_rated_books = highest_rated_books.rename(columns={\"Book-Rating\": \"NoOfRatings\"}) #rename"
   ]
  },
  {
   "cell_type": "code",
   "execution_count": 48,
   "id": "b5b6d56f-6ba2-4ab7-86fe-dd7c833559cd",
   "metadata": {},
   "outputs": [
    {
     "name": "stdout",
     "output_type": "stream",
     "text": [
      "The Lovely Bones: A Novel\n"
     ]
    },
    {
     "data": {
      "text/html": [
       "<img src=\"http://images.amazon.com/images/P/0316666343.01.MZZZZZZZ.jpg\"/>"
      ],
      "text/plain": [
       "<IPython.core.display.Image object>"
      ]
     },
     "metadata": {},
     "output_type": "display_data"
    },
    {
     "name": "stdout",
     "output_type": "stream",
     "text": [
      "Wild Animus\n"
     ]
    },
    {
     "data": {
      "text/html": [
       "<img src=\"http://images.amazon.com/images/P/0971880107.01.MZZZZZZZ.jpg\"/>"
      ],
      "text/plain": [
       "<IPython.core.display.Image object>"
      ]
     },
     "metadata": {},
     "output_type": "display_data"
    },
    {
     "name": "stdout",
     "output_type": "stream",
     "text": [
      "The Da Vinci Code\n"
     ]
    },
    {
     "data": {
      "text/html": [
       "<img src=\"http://images.amazon.com/images/P/0385504209.01.MZZZZZZZ.jpg\"/>"
      ],
      "text/plain": [
       "<IPython.core.display.Image object>"
      ]
     },
     "metadata": {},
     "output_type": "display_data"
    },
    {
     "name": "stdout",
     "output_type": "stream",
     "text": [
      "The Red Tent (Bestselling Backlist)\n"
     ]
    },
    {
     "data": {
      "text/html": [
       "<img src=\"http://images.amazon.com/images/P/0312195516.01.MZZZZZZZ.jpg\"/>"
      ],
      "text/plain": [
       "<IPython.core.display.Image object>"
      ]
     },
     "metadata": {},
     "output_type": "display_data"
    },
    {
     "name": "stdout",
     "output_type": "stream",
     "text": [
      "nan\n",
      "[No image available]\n"
     ]
    }
   ],
   "source": [
    "for i in range(5):\n",
    "    book = highest_rated_books.iloc[i]\n",
    "    print(book[\"Book-Title\"])\n",
    "    if pd.notna(book[\"Image-URL-M\"]):\n",
    "        display(Image(url=book[\"Image-URL-M\"]))\n",
    "    else:\n",
    "        print(\"[No image available]\")"
   ]
  },
  {
   "cell_type": "markdown",
   "id": "1909f420-6fbd-4bf3-8b78-ba4dfd3db786",
   "metadata": {},
   "source": [
    "## 6. Who's Reading? Age Groups & Countries\n",
    "This sections looks at age and country to identity who our readers are"
   ]
  },
  {
   "cell_type": "code",
   "execution_count": 49,
   "id": "bb079b9c-a509-4e9c-9a2f-e35a073e334b",
   "metadata": {},
   "outputs": [
    {
     "data": {
      "text/html": [
       "<div>\n",
       "<style scoped>\n",
       "    .dataframe tbody tr th:only-of-type {\n",
       "        vertical-align: middle;\n",
       "    }\n",
       "\n",
       "    .dataframe tbody tr th {\n",
       "        vertical-align: top;\n",
       "    }\n",
       "\n",
       "    .dataframe thead th {\n",
       "        text-align: right;\n",
       "    }\n",
       "</style>\n",
       "<table border=\"1\" class=\"dataframe\">\n",
       "  <thead>\n",
       "    <tr style=\"text-align: right;\">\n",
       "      <th></th>\n",
       "      <th>User-ID</th>\n",
       "      <th>Location</th>\n",
       "      <th>Age</th>\n",
       "      <th>Country</th>\n",
       "    </tr>\n",
       "  </thead>\n",
       "  <tbody>\n",
       "    <tr>\n",
       "      <th>0</th>\n",
       "      <td>1</td>\n",
       "      <td>nyc, new york, usa</td>\n",
       "      <td>32.0</td>\n",
       "      <td>usa</td>\n",
       "    </tr>\n",
       "    <tr>\n",
       "      <th>1</th>\n",
       "      <td>2</td>\n",
       "      <td>stockton, california, usa</td>\n",
       "      <td>18.0</td>\n",
       "      <td>usa</td>\n",
       "    </tr>\n",
       "    <tr>\n",
       "      <th>2</th>\n",
       "      <td>3</td>\n",
       "      <td>moscow, yukon territory, russia</td>\n",
       "      <td>32.0</td>\n",
       "      <td>russia</td>\n",
       "    </tr>\n",
       "    <tr>\n",
       "      <th>3</th>\n",
       "      <td>4</td>\n",
       "      <td>porto, v.n.gaia, portugal</td>\n",
       "      <td>17.0</td>\n",
       "      <td>portugal</td>\n",
       "    </tr>\n",
       "    <tr>\n",
       "      <th>4</th>\n",
       "      <td>5</td>\n",
       "      <td>farnborough, hants, united kingdom</td>\n",
       "      <td>32.0</td>\n",
       "      <td>united kingdom</td>\n",
       "    </tr>\n",
       "  </tbody>\n",
       "</table>\n",
       "</div>"
      ],
      "text/plain": [
       "   User-ID                            Location   Age         Country\n",
       "0        1                  nyc, new york, usa  32.0             usa\n",
       "1        2           stockton, california, usa  18.0             usa\n",
       "2        3     moscow, yukon territory, russia  32.0          russia\n",
       "3        4           porto, v.n.gaia, portugal  17.0        portugal\n",
       "4        5  farnborough, hants, united kingdom  32.0  united kingdom"
      ]
     },
     "execution_count": 49,
     "metadata": {},
     "output_type": "execute_result"
    }
   ],
   "source": [
    "# creating a column called Country\n",
    "users[\"Country\"] = users[\"Location\"].apply(lambda Location: Location.split(\",\")[-1].strip())\n",
    "users.head(5)"
   ]
  },
  {
   "cell_type": "markdown",
   "id": "28ed69d7-b475-4e9a-a180-43c31f93d481",
   "metadata": {},
   "source": [
    "#### Where are most readers from?"
   ]
  },
  {
   "cell_type": "code",
   "execution_count": 50,
   "id": "b753901a-3f41-4f8f-a9a3-3463800869b8",
   "metadata": {},
   "outputs": [
    {
     "name": "stdout",
     "output_type": "stream",
     "text": [
      "Country\n",
      "usa               139711\n",
      "canada             21658\n",
      "united kingdom     18538\n",
      "germany            17043\n",
      "spain              13147\n",
      "australia          11784\n",
      "italy              11266\n",
      "                    4578\n",
      "france              3455\n",
      "portugal            3325\n",
      "Name: count, dtype: int64\n"
     ]
    }
   ],
   "source": [
    "top_countries = users[\"Country\"].value_counts().head(10)\n",
    "print(top_countries)"
   ]
  },
  {
   "cell_type": "markdown",
   "id": "b26b235b-ac94-4630-9680-799b1800a66c",
   "metadata": {},
   "source": [
    "##### After looking at countiries count i relaized that there are some blanks, so need to clean them them to avoid any vague info on charts"
   ]
  },
  {
   "cell_type": "code",
   "execution_count": 51,
   "id": "92915ff9-6697-4266-b7b6-d0132c86d6c6",
   "metadata": {},
   "outputs": [
    {
     "name": "stdout",
     "output_type": "stream",
     "text": [
      "Empty countries: 4578\n"
     ]
    }
   ],
   "source": [
    "print(\"Empty countries:\", (users[\"Country\"] == \"\").sum())"
   ]
  },
  {
   "cell_type": "code",
   "execution_count": 52,
   "id": "d132c234-5592-48f4-93d9-35fa827f6811",
   "metadata": {},
   "outputs": [
    {
     "name": "stdout",
     "output_type": "stream",
     "text": [
      "Empty countries: 0\n"
     ]
    }
   ],
   "source": [
    "# cleaning to handle null Countries\n",
    "users[\"Country\"] = users[\"Country\"].replace(\"\", \"Unknown\")\n",
    "print(\"Empty countries:\", (users[\"Country\"] == \"\").sum())"
   ]
  },
  {
   "cell_type": "code",
   "execution_count": 53,
   "id": "e85fd1d4-345f-4d05-89c2-42ccf075c05f",
   "metadata": {},
   "outputs": [
    {
     "data": {
      "image/png": "[encoded data removed]",
      "text/plain": [
       "<Figure size 640x480 with 1 Axes>"
      ]
     },
     "metadata": {},
     "output_type": "display_data"
    }
   ],
   "source": [
    "top_countries = users[\"Country\"].value_counts().head(10)\n",
    "top_countries = top_countries.reset_index()\n",
    "top_countries.columns = [\"Country\", \"Readers\"]\n",
    "\n",
    "sns.barplot(x=\"Readers\", y=\"Country\", data=top_countries, errorbar=None, color=\"orchid\")\n",
    "plt.title(\"Top 10 Countries by Readers\")\n",
    "plt.xlabel(\"Readers\")\n",
    "plt.ylabel(\"Country\")\n",
    "plt.show()"
   ]
  },
  {
   "cell_type": "markdown",
   "id": "aeeef150-f2fe-45ef-b6db-8d375d3abf5a",
   "metadata": {},
   "source": [
    "#### Age groups and their preferred Authors"
   ]
  },
  {
   "cell_type": "code",
   "execution_count": 54,
   "id": "610fc9ae-cf4a-401f-8e90-f372b1e1e009",
   "metadata": {},
   "outputs": [
    {
     "name": "stdout",
     "output_type": "stream",
     "text": [
      "       AgeGroup    Book-Author  Book-Rating\n",
      "79042       <18    R. L. Stine          348\n",
      "4540        <18  Ann M. Martin          345\n",
      "192399    18–25   Stephen King         1074\n",
      "174617    18–25   Nora Roberts          671\n",
      "293991    26–35   Stephen King         5687\n",
      "276209    26–35   Nora Roberts         4234\n",
      "377801    36–50   Nora Roberts         2256\n",
      "395583    36–50   Stephen King         2191\n",
      "479393    51–70   Nora Roberts         1089\n",
      "497175    51–70   Stephen King          834\n",
      "556724      70+   John Grisham           55\n",
      "580985      70+   Nora Roberts           51 \n",
      "\n",
      "\n"
     ]
    },
    {
     "data": {
      "image/png": "[encoded data removed]",
      "text/plain": [
       "<Figure size 640x480 with 1 Axes>"
      ]
     },
     "metadata": {},
     "output_type": "display_data"
    }
   ],
   "source": [
    "# creating a new column in user called AgeGroup\n",
    "# putting ages into categories/bins\n",
    "users[\"AgeGroup\"] = pd.cut(users[\"Age\"], \n",
    "                           bins=[0, 18, 25, 35, 50, 70, 100], \n",
    "                           labels=[\"<18\", \"18–25\", \"26–35\", \"36–50\", \"51–70\", \"70+\"],\n",
    "                           right=False)\n",
    "# print(users.head(3), \"\\n\\n\")\n",
    "\n",
    "# creating a table that will have \n",
    "# userid, isbn, book-rating from ratings tables JOINED ON\n",
    "# userid, age, agegroup from users tables JOINED ON\n",
    "# isbn and author from books table\n",
    "merge_all_tables = ratings.merge(users[[\"User-ID\", \"Age\", \"AgeGroup\"]], on=\"User-ID\").merge(books[[\"ISBN\", \"Book-Author\"]], on=\"ISBN\", how=\"left\")\n",
    "#print(merge_all_tables.head(3), \"\\n\\n\")\n",
    "\n",
    "# counting how many ratings each author got in each agegroup\n",
    "author_counts = merge_all_tables.groupby([\"AgeGroup\", \"Book-Author\"], observed=False)[\"Book-Rating\"].count().reset_index()\n",
    "#print(author_counts.head(5), \"\\n\\n\")\n",
    "\n",
    "# sorting author counts by highest to lowest\n",
    "top_authors = author_counts.sort_values([\"AgeGroup\", \"Book-Rating\"], ascending=[True, False]) \\\n",
    "                           .groupby(\"AgeGroup\", observed=False).head(2)\n",
    "\n",
    "print(top_authors, \"\\n\\n\")\n",
    "\n",
    "# Show it in a chart\n",
    "sns.barplot(data=top_authors, x=\"AgeGroup\", y=\"Book-Rating\", hue=\"Book-Author\", palette=\"Set2\")\n",
    "plt.title(\"Top Two Authors by Age Group\")\n",
    "plt.tight_layout()\n",
    "plt.show()"
   ]
  },
  {
   "cell_type": "markdown",
   "id": "4b5188ed-69b0-48b4-b9c4-3f034e23b5bd",
   "metadata": {},
   "source": [
    "Although this chart was mainly made to show the top two authors for each age group, it actually tells us two things at once.\n",
    "\n",
    "1. Top Authors by Age Group\n",
    "We can see which authors are most popular in each age range.\n",
    "\n",
    "Like Stephen King being a favourite among 26–35 year olds, and Nora Roberts populat among most age groups.\n",
    "\n",
    "3. Reading Activity by Age Group (Roughly)\n",
    "Just by looking at the height of the bars we also get a rough idea of which age groups are more active in reading or in rating books.\n",
    "\n",
    "For example, the 26–35 group has the tallest bars, which shows they might be the most engaged readers. \n",
    "\n",
    "The younger and older age groups are a bit less active (can mean one of two things, they dont read much or dont rate much)."
   ]
  },
  {
   "cell_type": "markdown",
   "id": "e6a3240d-c51d-4ad0-8d79-d0c32f9d43ac",
   "metadata": {},
   "source": [
    "## 7. Do Different Countries Love the Same Books?"
   ]
  },
  {
   "cell_type": "code",
   "execution_count": 55,
   "id": "589455ab-a4db-430f-8fe0-88e56c477ca8",
   "metadata": {},
   "outputs": [
    {
     "data": {
      "image/png": "[encoded data removed]",
      "text/plain": [
       "<Figure size 1200x600 with 2 Axes>"
      ]
     },
     "metadata": {},
     "output_type": "display_data"
    }
   ],
   "source": [
    "# merge all tables\n",
    "merged = ratings.merge(users, on=\"User-ID\").merge(books[[\"ISBN\", \"Book-Title\"]], on=\"ISBN\", how=\"left\")\n",
    "\n",
    "# find top countrues and books from the merged table\n",
    "top_countries = merged[\"Country\"].value_counts().head(10).index\n",
    "top_books = merged[\"Book-Title\"].value_counts().head(10).index\n",
    "\n",
    "# get only top countries and books\n",
    "top10 = merged[merged[\"Country\"].isin(top_countries) & merged[\"Book-Title\"].isin(top_books)]\n",
    "\n",
    "# group the top10 and get average ratings\n",
    "group_top10 = top10.groupby([\"Country\", \"Book-Title\"])[\"Book-Rating\"].mean().reset_index()\n",
    "\n",
    "# heatmap requires reshaping \n",
    "heatmap_table = group_top10.pivot(index=\"Country\", columns=\"Book-Title\", values=\"Book-Rating\")\n",
    "\n",
    "# Step 6: Plot heatmap\n",
    "plt.figure(figsize=(12, 6))\n",
    "sns.heatmap(heatmap_table, annot=True, cmap=\"coolwarm\", linewidths=0.5)\n",
    "plt.title(\"Average Ratings by Country and Book (Top 10)\")\n",
    "plt.xlabel(\"Book Title\")\n",
    "plt.ylabel(\"Country\")\n",
    "plt.xticks(rotation=45, ha=\"right\")\n",
    "plt.tight_layout()\n",
    "plt.show()"
   ]
  },
  {
   "cell_type": "markdown",
   "id": "34ad1fa8-5d1c-4a13-8fa4-c85f20fce8be",
   "metadata": {},
   "source": [
    "## 8. Book Recommeder\n",
    "##### Confused on what book to read? Try my recommender."
   ]
  },
  {
   "cell_type": "code",
   "execution_count": null,
   "id": "39057451-bcee-4426-a172-b4321ef26ca9",
   "metadata": {},
   "outputs": [],
   "source": [
    "# joining ratings and books tables\n",
    "merged2 = ratings.merge(books[[\"ISBN\", \"Book-Title\", \"Book-Author\"]], on=\"ISBN\", how=\"left\")\n",
    "\n",
    "# Filter only meaningful ratings\n",
    "# merged2 = merged2[merged2[\"Book-Rating\"] > 0]\n",
    "# print(merged2.isna().sum()) \n",
    "\n",
    "# many rows had missing author and title (because some ISBN's in ratings are not in boooks table)\n",
    "merged2 = merged2.dropna(subset=[\"Book-Author\"])\n",
    "#print(merged2.isna().sum()) \n",
    "\n",
    "# questions\n",
    "favourite_author = input(\"Who's your favourite author? \") #Nora Roberts\n",
    "min_rating = int(input(\"Minimum rating you'd consider (1-10)? \"))\n",
    "\n",
    "# recommendations\n",
    "recommendations = merged2[merged2[\"Book-Author\"].str.contains(favourite_author)]\n",
    "recommendations = recommendations.groupby([\"Book-Title\", \"Book-Author\"])[\"Book-Rating\"].mean().reset_index()\n",
    "recommendations = recommendations[recommendations[\"Book-Rating\"] >= min_rating]\n",
    "recommendations = recommendations.sort_values(by=\"Book-Rating\", ascending=False)\n",
    "\n",
    "# show top 5 recommendatosns\n",
    "print(\"\\nRecommended Books for You:\\n\")\n",
    "print(recommendations.head(5))"
   ]
  },
  {
   "cell_type": "markdown",
   "id": "5d597e47-6684-4451-8431-525765d09b4f",
   "metadata": {},
   "source": [
    "#### Thanks for checking out my notebook. \n",
    "#### It was fun exploring what people read, where they're from and which authors different age groups prefer.\n",
    "#### Hope you found something interesting. "
   ]
  }
 ],
 "metadata": {
  "kernelspec": {
   "display_name": "Python 3 (ipykernel)",
   "language": "python",
   "name": "python3"
  },
  "language_info": {
   "codemirror_mode": {
    "name": "ipython",
    "version": 3
   },
   "file_extension": ".py",
   "mimetype": "text/x-python",
   "name": "python",
   "nbconvert_exporter": "python",
   "pygments_lexer": "ipython3",
   "version": "3.13.5"
  }
 },
 "nbformat": 4,
 "nbformat_minor": 5
}
