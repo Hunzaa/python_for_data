{
 "cells": [
  {
   "cell_type": "code",
   "execution_count": 79,
   "id": "57bb873f-0e17-47f2-b1f1-f82079d61486",
   "metadata": {},
   "outputs": [],
   "source": [
    "import numpy as np"
   ]
  },
  {
   "cell_type": "code",
   "execution_count": 80,
   "id": "6520977a-c9fe-4286-9486-b0d26e5219eb",
   "metadata": {},
   "outputs": [],
   "source": [
    "import pandas as pd"
   ]
  },
  {
   "cell_type": "markdown",
   "id": "0ec2dd54-3042-4ceb-ad41-934ca5fbc2c4",
   "metadata": {},
   "source": [
    "## 1. Why do you need to import numpy as well?\n",
    "Because pandas uses numpy behind the scenes to handle numbers better. Think of pandas as the manager, and numpy as the calculator doing the actual sums."
   ]
  },
  {
   "cell_type": "markdown",
   "id": "abe10b84-5c9f-4bb8-988b-0165bdc00e9c",
   "metadata": {},
   "source": [
    "## 2. Creating a Series from a list"
   ]
  },
  {
   "cell_type": "code",
   "execution_count": 81,
   "id": "e53a051b-8cec-4a12-862f-4bef215d4e29",
   "metadata": {},
   "outputs": [
    {
     "data": {
      "text/plain": [
       "0    strawberry\n",
       "1     pineapple\n",
       "2     blueberry\n",
       "dtype: object"
      ]
     },
     "execution_count": 81,
     "metadata": {},
     "output_type": "execute_result"
    }
   ],
   "source": [
    "fruits = ['strawberry','pineapple','blueberry']\n",
    "fruit_series = pd.Series(fruits)\n",
    "fruit_series"
   ]
  },
  {
   "cell_type": "markdown",
   "id": "47f6c63e-32bc-41e9-b465-dfbf457e8d50",
   "metadata": {},
   "source": [
    "#### What can we see as output of the series?\n",
    "\n",
    "- The row number (called index)\n",
    "- The value (fruit names)\n",
    "- The data type at the end (\"object\" means it's text)"
   ]
  },
  {
   "cell_type": "markdown",
   "id": "88eaa217-68d0-4931-812b-1c5be966323a",
   "metadata": {},
   "source": [
    "#### How do we access a single component of the series?\n",
    "- Access the index\n",
    "- Access the values\n",
    "- Access the data type"
   ]
  },
  {
   "cell_type": "code",
   "execution_count": 82,
   "id": "2acfe396-cc3a-49e7-8540-07c76f277d6b",
   "metadata": {},
   "outputs": [
    {
     "name": "stdout",
     "output_type": "stream",
     "text": [
      "strawberry\n",
      "RangeIndex(start=0, stop=3, step=1)\n"
     ]
    }
   ],
   "source": [
    "# index\n",
    "print(fruit_series[0])\n",
    "print(fruit_series.index)"
   ]
  },
  {
   "cell_type": "code",
   "execution_count": 83,
   "id": "b371859d-bc41-489b-aa29-df36702fa09b",
   "metadata": {},
   "outputs": [
    {
     "name": "stdout",
     "output_type": "stream",
     "text": [
      "object\n"
     ]
    }
   ],
   "source": [
    "# data type\n",
    "print(fruit_series.dtype)"
   ]
  },
  {
   "cell_type": "markdown",
   "id": "c1227e95-980c-4fe9-babb-56b4c020a278",
   "metadata": {},
   "source": [
    "## 3. Create a Series with an index"
   ]
  },
  {
   "cell_type": "code",
   "execution_count": 84,
   "id": "104deb93-64a1-4926-a453-879e56826965",
   "metadata": {},
   "outputs": [
    {
     "name": "stdout",
     "output_type": "stream",
     "text": [
      "strawberry    23\n",
      "pineapple      9\n",
      "blueberry     13\n",
      "dtype: int64\n"
     ]
    }
   ],
   "source": [
    "fruit_prices = pd.Series([23, 9, 13], index=['strawberry','pineapple','blueberry'])\n",
    "print(fruit_prices)"
   ]
  },
  {
   "cell_type": "markdown",
   "id": "e89fa513-9a1a-476b-a299-aa70a68bee40",
   "metadata": {},
   "source": [
    "#### Check the index of the created Series"
   ]
  },
  {
   "cell_type": "code",
   "execution_count": 85,
   "id": "64769415-9e83-4505-ac76-87e5af8c4acf",
   "metadata": {},
   "outputs": [
    {
     "name": "stdout",
     "output_type": "stream",
     "text": [
      "Index(['strawberry', 'pineapple', 'blueberry'], dtype='object')\n"
     ]
    }
   ],
   "source": [
    "print(fruit_prices.index)"
   ]
  },
  {
   "cell_type": "markdown",
   "id": "535ca429-3ea5-4763-819c-7a5b8a5f8751",
   "metadata": {},
   "source": [
    "## 4. How do you access a value using the index name?"
   ]
  },
  {
   "cell_type": "code",
   "execution_count": 86,
   "id": "c06bc0d4-50ca-4fc9-942d-11c7c1eb5896",
   "metadata": {},
   "outputs": [
    {
     "name": "stdout",
     "output_type": "stream",
     "text": [
      "9\n"
     ]
    }
   ],
   "source": [
    "print(fruit_prices['pineapple'])"
   ]
  },
  {
   "cell_type": "markdown",
   "id": "14cc1b5c-2288-4bda-ac7f-bb951fc73196",
   "metadata": {},
   "source": [
    "## 5. Access a value using a positional index"
   ]
  },
  {
   "cell_type": "code",
   "execution_count": 87,
   "id": "40455c36-1c0c-4df1-b23e-ffc653350258",
   "metadata": {},
   "outputs": [
    {
     "name": "stdout",
     "output_type": "stream",
     "text": [
      "9\n"
     ]
    }
   ],
   "source": [
    "print(fruit_prices.iloc[1])"
   ]
  },
  {
   "cell_type": "markdown",
   "id": "f127eed3-6f42-443a-8d47-417fd53817a5",
   "metadata": {},
   "source": [
    "## 6. Filter for data based on conditions\n",
    "Use comparison operators (boolean values)"
   ]
  },
  {
   "cell_type": "code",
   "execution_count": 88,
   "id": "9cd3746d-af60-4032-a9bf-5a2266ff057f",
   "metadata": {},
   "outputs": [
    {
     "name": "stdout",
     "output_type": "stream",
     "text": [
      "strawberry    23\n",
      "blueberry     13\n",
      "dtype: int64\n"
     ]
    }
   ],
   "source": [
    "print(fruit_prices[fruit_prices > 10])"
   ]
  },
  {
   "cell_type": "markdown",
   "id": "f40539bc-9e99-463b-b310-1f0f1de4e536",
   "metadata": {},
   "source": [
    "## 7. Check names in an index"
   ]
  },
  {
   "cell_type": "code",
   "execution_count": 89,
   "id": "771ec5ca-9be1-4568-9935-3fa7a25471bf",
   "metadata": {},
   "outputs": [
    {
     "name": "stdout",
     "output_type": "stream",
     "text": [
      "False\n"
     ]
    }
   ],
   "source": [
    "print('apple' in fruit_prices.index)"
   ]
  },
  {
   "cell_type": "code",
   "execution_count": 90,
   "id": "4b599058-3c09-4fe3-9b12-399d7f98b539",
   "metadata": {},
   "outputs": [
    {
     "name": "stdout",
     "output_type": "stream",
     "text": [
      "True\n"
     ]
    }
   ],
   "source": [
    "print('blueberry' in fruit_prices.index)"
   ]
  },
  {
   "cell_type": "markdown",
   "id": "50f72ee6-dcac-45bc-a42a-953b9fff4b5a",
   "metadata": {},
   "source": [
    "## 8. Convert a Series to a Dictionary"
   ]
  },
  {
   "cell_type": "code",
   "execution_count": 91,
   "id": "2b163b8e-69b1-4d6a-82b5-1a70d84feb50",
   "metadata": {},
   "outputs": [
    {
     "name": "stdout",
     "output_type": "stream",
     "text": [
      "{0: 'strawberry', 1: 'pineapple', 2: 'blueberry'}\n"
     ]
    }
   ],
   "source": [
    "fruit_dict = fruit_series.to_dict()\n",
    "print(fruit_dict)"
   ]
  },
  {
   "cell_type": "markdown",
   "id": "f862f6a3-bb69-4a56-a1cf-972fa5517546",
   "metadata": {},
   "source": [
    "## 9. Create a new Series from an existing series"
   ]
  },
  {
   "cell_type": "code",
   "execution_count": 92,
   "id": "463b1833-ac3a-4d4d-ad23-b43fb8d2d41d",
   "metadata": {},
   "outputs": [
    {
     "name": "stdout",
     "output_type": "stream",
     "text": [
      "strawberry    115\n",
      "pineapple      45\n",
      "blueberry      65\n",
      "dtype: int64\n"
     ]
    }
   ],
   "source": [
    "new_fruit_price = fruit_prices * 5\n",
    "print(new_fruit_price)"
   ]
  },
  {
   "cell_type": "markdown",
   "id": "a9bdef4f-1be7-48f9-8e81-61766f090300",
   "metadata": {},
   "source": [
    "#### What values are given to the index added, if none are provided?"
   ]
  },
  {
   "cell_type": "markdown",
   "id": "fef78cd7-ad23-4912-a88c-3c640aa3e9ba",
   "metadata": {},
   "source": [
    "vegetable_series = pd.Series(['carrot','onion'])\n",
    "print(vegetable_series)"
   ]
  },
  {
   "cell_type": "markdown",
   "id": "0e03af91-a2e7-4616-b49e-a44a35d7e87d",
   "metadata": {},
   "source": [
    "## 10. How do you check for NaN values?"
   ]
  },
  {
   "cell_type": "code",
   "execution_count": 96,
   "id": "018a751f-7610-4f37-9b1e-c950c7043f69",
   "metadata": {},
   "outputs": [
    {
     "name": "stdout",
     "output_type": "stream",
     "text": [
      "0    False\n",
      "1     True\n",
      "2    False\n",
      "dtype: bool\n"
     ]
    }
   ],
   "source": [
    "nan_series = pd.Series([10, np.nan, 4])\n",
    "print(nan_series.isna())"
   ]
  },
  {
   "cell_type": "markdown",
   "id": "24631f7c-299d-4621-8d0e-bd003a457c35",
   "metadata": {},
   "source": [
    "## 11. How is NaN different to None?"
   ]
  },
  {
   "cell_type": "markdown",
   "id": "e3deb87f-77cb-44ba-862c-651a265a6731",
   "metadata": {},
   "source": [
    "None is Python’s way of saying \"nothing here\". None is more generic\n",
    "NaN is pandas' way of saying \"missing number\". You’ll usually use NaN in number-based data. NaN is used for missing numerical data and supports numerical ops, "
   ]
  },
  {
   "cell_type": "code",
   "execution_count": 97,
   "id": "b4029793-6ade-47d5-8633-91e069a6f03f",
   "metadata": {},
   "outputs": [
    {
     "name": "stdout",
     "output_type": "stream",
     "text": [
      "0    False\n",
      "1     True\n",
      "2    False\n",
      "dtype: bool\n"
     ]
    }
   ],
   "source": [
    "nan_series = pd.Series([10, None, 4, np.nan])\n",
    "print(nan_series.isna())"
   ]
  },
  {
   "cell_type": "markdown",
   "id": "ed130f6a-4f34-436c-a359-435e8346baba",
   "metadata": {},
   "source": [
    "## 12. How do you check for Nulls?"
   ]
  },
  {
   "cell_type": "code",
   "execution_count": null,
   "id": "ec54858c-aebd-4da1-9312-fcf0febb6115",
   "metadata": {},
   "outputs": [],
   "source": [
    "nan_series = pd.Series([10, None, 4])\n",
    "print(nan_series.isna())"
   ]
  },
  {
   "cell_type": "markdown",
   "id": "616e7d1c-6c8a-41c4-86d5-e8454468199f",
   "metadata": {},
   "source": [
    "## 13. How do you name an index?"
   ]
  },
  {
   "cell_type": "markdown",
   "id": "ff19da38-c225-469d-a457-68846f6cea91",
   "metadata": {},
   "source": [
    "## 14. How do you name a Series?"
   ]
  },
  {
   "cell_type": "code",
   "execution_count": null,
   "id": "a3315893-3654-4140-864e-dfbb908b690e",
   "metadata": {},
   "outputs": [],
   "source": []
  }
 ],
 "metadata": {
  "kernelspec": {
   "display_name": "Python 3 (ipykernel)",
   "language": "python",
   "name": "python3"
  },
  "language_info": {
   "codemirror_mode": {
    "name": "ipython",
    "version": 3
   },
   "file_extension": ".py",
   "mimetype": "text/x-python",
   "name": "python",
   "nbconvert_exporter": "python",
   "pygments_lexer": "ipython3",
   "version": "3.13.5"
  }
 },
 "nbformat": 4,
 "nbformat_minor": 5
}
