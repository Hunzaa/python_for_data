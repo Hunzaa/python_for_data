{
 "cells": [
  {
   "cell_type": "markdown",
   "id": "e0cf9ffb-5ff9-4ad5-baa7-693c49a7471a",
   "metadata": {},
   "source": [
    "# Numpy"
   ]
  },
  {
   "cell_type": "markdown",
   "id": "57d2b275-cf5e-41ce-9d3f-b5b409019a5d",
   "metadata": {},
   "source": [
    "Numpy is a library which provides support for large, homogenous, multi-dimensional arrays and matrices."
   ]
  },
  {
   "cell_type": "code",
   "execution_count": 3,
   "id": "cac9c2dc-114f-4da8-b9e2-5971801de3d1",
   "metadata": {},
   "outputs": [],
   "source": [
    "import numpy as np"
   ]
  },
  {
   "cell_type": "markdown",
   "id": "83b62113-4cf0-4c0b-924c-59877c4cbb07",
   "metadata": {},
   "source": [
    "## Creating Arrays in Numpy"
   ]
  },
  {
   "cell_type": "markdown",
   "id": "ac929fcf-63c9-47b1-9f7b-7608c6eaf3dc",
   "metadata": {},
   "source": [
    "### Creating an Array from Python list"
   ]
  },
  {
   "cell_type": "code",
   "execution_count": 6,
   "id": "2fc49596-c906-45ef-a651-8a8892c8dd18",
   "metadata": {},
   "outputs": [
    {
     "data": {
      "text/plain": [
       "[10, 20, 30]"
      ]
     },
     "execution_count": 6,
     "metadata": {},
     "output_type": "execute_result"
    }
   ],
   "source": [
    "list1 = [10, 20, 30]\n",
    "list1"
   ]
  },
  {
   "cell_type": "code",
   "execution_count": 7,
   "id": "016638e6-47aa-4638-a789-4cc944d62136",
   "metadata": {},
   "outputs": [
    {
     "data": {
      "text/plain": [
       "array([10, 20, 30])"
      ]
     },
     "execution_count": 7,
     "metadata": {},
     "output_type": "execute_result"
    }
   ],
   "source": [
    "array1 = np.array(list1)\n",
    "array1"
   ]
  },
  {
   "cell_type": "code",
   "execution_count": 9,
   "id": "a7a4393e-29e8-4b4f-a6bb-7b4cc4b58335",
   "metadata": {},
   "outputs": [
    {
     "data": {
      "text/plain": [
       "numpy.ndarray"
      ]
     },
     "execution_count": 9,
     "metadata": {},
     "output_type": "execute_result"
    }
   ],
   "source": [
    "# We can check the type of arr1, we can see it is an ndarray\n",
    "# (or n-dimensional array)\n",
    "# In this case we have only created a one dimensional array so far\n",
    "type(array1)"
   ]
  },
  {
   "cell_type": "markdown",
   "id": "9b0fec25-5dca-4135-ad47-f76c5ffb79f2",
   "metadata": {},
   "source": [
    "### Using arange() to create an Array"
   ]
  },
  {
   "cell_type": "markdown",
   "id": "b5a044cc-ffa7-45c2-8887-c03078520304",
   "metadata": {},
   "source": [
    "arange() takes creates and array from a range of numbers"
   ]
  },
  {
   "cell_type": "code",
   "execution_count": 11,
   "id": "764abea0-ce15-48b5-82ff-375b08d2c0e1",
   "metadata": {},
   "outputs": [
    {
     "data": {
      "text/plain": [
       "array([10, 11, 12, 13, 14, 15, 16, 17, 18, 19])"
      ]
     },
     "execution_count": 11,
     "metadata": {},
     "output_type": "execute_result"
    }
   ],
   "source": [
    "array2 = np.arange(10, 20, 1) # (Start, Stop, Step-size)\n",
    "array2"
   ]
  },
  {
   "cell_type": "markdown",
   "id": "22a0cd59-425a-4862-9d06-91e67c12524f",
   "metadata": {},
   "source": [
    "### Multi-dimensional Arrays"
   ]
  },
  {
   "cell_type": "markdown",
   "id": "bbca7b0c-6470-4d0a-b885-45eba819267f",
   "metadata": {},
   "source": [
    "When we combine arrays together we can add dimensions. So two arrays together makes a 2d array. This creates a matrix for us to do matrix\n",
    "operations on."
   ]
  },
  {
   "cell_type": "markdown",
   "id": "e1396440-49a2-4956-a22a-e20d036180c1",
   "metadata": {},
   "source": [
    "### Two dimensional Arrays"
   ]
  },
  {
   "cell_type": "code",
   "execution_count": 13,
   "id": "f192df32-e3ed-4a94-8d0e-044570cbccb8",
   "metadata": {},
   "outputs": [
    {
     "data": {
      "text/plain": [
       "array([[10, 20, 30],\n",
       "       [40, 50, 60]])"
      ]
     },
     "execution_count": 13,
     "metadata": {},
     "output_type": "execute_result"
    }
   ],
   "source": [
    "# creating a new list to join to first one\n",
    "list2 = [40,50,60]\n",
    "\n",
    "# join the lists together\n",
    "list3 = [list1, list2]\n",
    "list \n",
    "\n",
    "# create 2d array from the joined lists\n",
    "array3 = np.array(list3)\n",
    "array3"
   ]
  },
  {
   "cell_type": "code",
   "execution_count": 16,
   "id": "e4a05217-ff98-48c0-80f5-e5a3fbac663a",
   "metadata": {},
   "outputs": [
    {
     "data": {
      "text/plain": [
       "(2, 3)"
      ]
     },
     "execution_count": 16,
     "metadata": {},
     "output_type": "execute_result"
    }
   ],
   "source": [
    "# Lets find the shape of the array\n",
    "array3.shape # 2 arrays, 3 elements in each array"
   ]
  },
  {
   "cell_type": "markdown",
   "id": "5caaac6c-89c0-455f-9983-4b896ae42288",
   "metadata": {},
   "source": [
    "### Three Dimensional Arrays"
   ]
  },
  {
   "cell_type": "code",
   "execution_count": 18,
   "id": "f0ee5228-9da7-4523-8000-1f127cbd638e",
   "metadata": {},
   "outputs": [
    {
     "data": {
      "text/plain": [
       "array([[[1, 2, 3],\n",
       "        [4, 5, 6]],\n",
       "\n",
       "       [[5, 6, 7],\n",
       "        [7, 8, 9]]])"
      ]
     },
     "execution_count": 18,
     "metadata": {},
     "output_type": "execute_result"
    }
   ],
   "source": [
    "array3dim = np.array([[[1,2,3],[4,5,6]],[[5,6,7],[7,8,9]]])\n",
    "array3dim"
   ]
  },
  {
   "cell_type": "code",
   "execution_count": 19,
   "id": "57358bbb-d537-404f-8f81-5c5e9a7b81af",
   "metadata": {},
   "outputs": [
    {
     "data": {
      "text/plain": [
       "(2, 2, 3)"
      ]
     },
     "execution_count": 19,
     "metadata": {},
     "output_type": "execute_result"
    }
   ],
   "source": [
    "array3dim.shape"
   ]
  },
  {
   "cell_type": "markdown",
   "id": "44c7610d-e1f2-468d-be5b-d732deaaa54f",
   "metadata": {},
   "source": [
    "### Using Arrays and Scalars"
   ]
  },
  {
   "cell_type": "code",
   "execution_count": 21,
   "id": "4eed7f2c-3563-4576-8e7f-bf4ee8eb613d",
   "metadata": {},
   "outputs": [
    {
     "data": {
      "text/plain": [
       "array([[[ 3,  6,  9],\n",
       "        [12, 15, 18]],\n",
       "\n",
       "       [[15, 18, 21],\n",
       "        [21, 24, 27]]])"
      ]
     },
     "execution_count": 21,
     "metadata": {},
     "output_type": "execute_result"
    }
   ],
   "source": [
    "# we can perform simple multipliation to our ndarrays\n",
    "# for example\n",
    "array3dim * 3"
   ]
  },
  {
   "cell_type": "code",
   "execution_count": 22,
   "id": "72ad7fb0-45bc-41dc-ac41-ff1b1a0050fd",
   "metadata": {},
   "outputs": [
    {
     "data": {
      "text/plain": [
       "[10, 20, 30, 10, 20, 30, 10, 20, 30]"
      ]
     },
     "execution_count": 22,
     "metadata": {},
     "output_type": "execute_result"
    }
   ],
   "source": [
    "# how is this differnt to list\n",
    "list1 * 3"
   ]
  },
  {
   "cell_type": "markdown",
   "id": "6006baa3-7165-4cb7-a283-05f521a24510",
   "metadata": {},
   "source": [
    "This is where numpy comes in, arrays and lits are treated differently. \n",
    "\n",
    "We can also multiply an arrat by another array using a \"matrix operation\""
   ]
  },
  {
   "cell_type": "code",
   "execution_count": 23,
   "id": "3673bea4-9cae-44c9-b783-60d01be955e9",
   "metadata": {},
   "outputs": [
    {
     "data": {
      "text/plain": [
       "array([40, 50, 60])"
      ]
     },
     "execution_count": 23,
     "metadata": {},
     "output_type": "execute_result"
    }
   ],
   "source": [
    "# creating another array which has the same size as array1\n",
    "array11 = np.array(list2)\n",
    "array11"
   ]
  },
  {
   "cell_type": "code",
   "execution_count": 24,
   "id": "12eb4747-06c7-4277-b9b1-868dc3290b8f",
   "metadata": {},
   "outputs": [
    {
     "data": {
      "text/plain": [
       "array([ 400, 1000, 1800])"
      ]
     },
     "execution_count": 24,
     "metadata": {},
     "output_type": "execute_result"
    }
   ],
   "source": [
    "# What will happen here\n",
    "array1 * array11\n",
    "# "
   ]
  },
  {
   "cell_type": "code",
   "execution_count": 26,
   "id": "9c89e4ee-fac1-4a86-bedf-b08e8edee86b",
   "metadata": {},
   "outputs": [
    {
     "ename": "ValueError",
     "evalue": "operands could not be broadcast together with shapes (3,) (10,) ",
     "output_type": "error",
     "traceback": [
      "\u001b[31m---------------------------------------------------------------------------\u001b[39m",
      "\u001b[31mValueError\u001b[39m                                Traceback (most recent call last)",
      "\u001b[36mCell\u001b[39m\u001b[36m \u001b[39m\u001b[32mIn[26]\u001b[39m\u001b[32m, line 2\u001b[39m\n\u001b[32m      1\u001b[39m \u001b[38;5;66;03m# What is we try to mulplty array of different sizes\u001b[39;00m\n\u001b[32m----> \u001b[39m\u001b[32m2\u001b[39m \u001b[43marray1\u001b[49m\u001b[43m \u001b[49m\u001b[43m*\u001b[49m\u001b[43m \u001b[49m\u001b[43marray2\u001b[49m\n",
      "\u001b[31mValueError\u001b[39m: operands could not be broadcast together with shapes (3,) (10,) "
     ]
    }
   ],
   "source": [
    "# What is we try to mulplty array of different sizes\n",
    "array1 * array2"
   ]
  },
  {
   "cell_type": "code",
   "execution_count": 27,
   "id": "51710f20-d2d4-4763-941b-12849c255157",
   "metadata": {},
   "outputs": [
    {
     "data": {
      "text/plain": [
       "array([[[ 10,  40,  90],\n",
       "        [ 40, 100, 180]],\n",
       "\n",
       "       [[ 50, 120, 210],\n",
       "        [ 70, 160, 270]]])"
      ]
     },
     "execution_count": 27,
     "metadata": {},
     "output_type": "execute_result"
    }
   ],
   "source": [
    "# But it is possible to multiply arrays of differ tdimensions but the same element size\n",
    "array1 * array3dim"
   ]
  },
  {
   "cell_type": "markdown",
   "id": "dd14e79c-23aa-429e-bf6f-0990dfbf564a",
   "metadata": {},
   "source": [
    "### Task\n",
    "Create ndarrays of the following sizes:\n",
    "1. One dimensional array with 12 elements (12,)\n",
    "2. Two dimensional array size (3, 4)\n",
    "3. Three dimensional array size (2, 5, 4)\n",
    "4. Check the size of your ndarray to ensure it is correct"
   ]
  },
  {
   "cell_type": "code",
   "execution_count": 37,
   "id": "56b3c88a-0698-44a9-b267-959c1901577b",
   "metadata": {},
   "outputs": [
    {
     "data": {
      "text/plain": [
       "array([ 0,  1,  2,  3,  4,  5,  6,  7,  8,  9, 10, 11])"
      ]
     },
     "execution_count": 37,
     "metadata": {},
     "output_type": "execute_result"
    }
   ],
   "source": [
    "# One dimensional array with 12 elements (12,)\n",
    "array_1d = np.arange(12)\n",
    "array_1d"
   ]
  },
  {
   "cell_type": "code",
   "execution_count": 38,
   "id": "ff942911-e679-4fe2-a543-381f8e107fa1",
   "metadata": {},
   "outputs": [
    {
     "data": {
      "text/plain": [
       "(12,)"
      ]
     },
     "execution_count": 38,
     "metadata": {},
     "output_type": "execute_result"
    }
   ],
   "source": [
    "array_1d.shape"
   ]
  },
  {
   "cell_type": "code",
   "execution_count": 43,
   "id": "ab231d97-6976-499a-ad93-671071d78b9b",
   "metadata": {},
   "outputs": [
    {
     "data": {
      "text/plain": [
       "array([[ 0,  1,  2,  3],\n",
       "       [ 4,  5,  6,  7],\n",
       "       [ 8,  9, 10, 11]])"
      ]
     },
     "execution_count": 43,
     "metadata": {},
     "output_type": "execute_result"
    }
   ],
   "source": [
    "# Two dimensional array size (3, 4)\n",
    "array_2d = np.arange(12).reshape(3,4)\n",
    "array_2d"
   ]
  },
  {
   "cell_type": "code",
   "execution_count": 44,
   "id": "b9a08da5-1c33-4c07-965d-a605455b4036",
   "metadata": {},
   "outputs": [
    {
     "data": {
      "text/plain": [
       "(3, 4)"
      ]
     },
     "execution_count": 44,
     "metadata": {},
     "output_type": "execute_result"
    }
   ],
   "source": [
    "array_2d.shape"
   ]
  },
  {
   "cell_type": "code",
   "execution_count": 45,
   "id": "2ef1e622-2301-45e0-a449-49d6efc75254",
   "metadata": {},
   "outputs": [
    {
     "data": {
      "text/plain": [
       "array([[[ 0,  1,  2,  3],\n",
       "        [ 4,  5,  6,  7],\n",
       "        [ 8,  9, 10, 11],\n",
       "        [12, 13, 14, 15],\n",
       "        [16, 17, 18, 19]],\n",
       "\n",
       "       [[20, 21, 22, 23],\n",
       "        [24, 25, 26, 27],\n",
       "        [28, 29, 30, 31],\n",
       "        [32, 33, 34, 35],\n",
       "        [36, 37, 38, 39]]])"
      ]
     },
     "execution_count": 45,
     "metadata": {},
     "output_type": "execute_result"
    }
   ],
   "source": [
    "# three dimensional array size (2, 5, 4)\n",
    "array_3d = np.arange(40).reshape(2, 5, 4)\n",
    "array_3d"
   ]
  },
  {
   "cell_type": "code",
   "execution_count": 46,
   "id": "59ebe245-c861-47c8-939d-edf72d55e1ab",
   "metadata": {},
   "outputs": [
    {
     "data": {
      "text/plain": [
       "(2, 5, 4)"
      ]
     },
     "execution_count": 46,
     "metadata": {},
     "output_type": "execute_result"
    }
   ],
   "source": [
    "array_3d.shape"
   ]
  },
  {
   "cell_type": "markdown",
   "id": "c06ff9d1-a1ef-4970-8fd9-c5da898f9404",
   "metadata": {},
   "source": [
    "# Accessing values in ndarrays"
   ]
  },
  {
   "cell_type": "code",
   "execution_count": 47,
   "id": "7dea10a1-1a49-4e6c-8ada-0f71c9ecb689",
   "metadata": {},
   "outputs": [
    {
     "data": {
      "text/plain": [
       "array([[10, 20, 30],\n",
       "       [40, 50, 60]])"
      ]
     },
     "execution_count": 47,
     "metadata": {},
     "output_type": "execute_result"
    }
   ],
   "source": [
    "# How can we access the 60?\n",
    "array3"
   ]
  },
  {
   "cell_type": "code",
   "execution_count": 56,
   "id": "90836688-05e7-4ae6-b361-1d6803f71885",
   "metadata": {},
   "outputs": [
    {
     "name": "stdout",
     "output_type": "stream",
     "text": [
      "60\n"
     ]
    }
   ],
   "source": [
    "# We can use indexing\n",
    "print(array3[1][2])"
   ]
  },
  {
   "cell_type": "code",
   "execution_count": 57,
   "id": "fd8c1f39-61ed-4871-ad04-9096373536aa",
   "metadata": {},
   "outputs": [
    {
     "name": "stdout",
     "output_type": "stream",
     "text": [
      "60\n"
     ]
    }
   ],
   "source": [
    "print(array3[1, 2])"
   ]
  },
  {
   "cell_type": "code",
   "execution_count": 59,
   "id": "346bf45a-a274-4011-a7d4-d079cc665b23",
   "metadata": {},
   "outputs": [
    {
     "data": {
      "text/plain": [
       "array([10, 20, 30])"
      ]
     },
     "execution_count": 59,
     "metadata": {},
     "output_type": "execute_result"
    }
   ],
   "source": [
    "# if we wanted the bottom row in our ndarray we can do this\n",
    "array3[0]"
   ]
  },
  {
   "cell_type": "code",
   "execution_count": 63,
   "id": "25086558-5d4e-4ab6-8e4a-8b10d72b559c",
   "metadata": {},
   "outputs": [
    {
     "data": {
      "text/plain": [
       "array([30, 60])"
      ]
     },
     "execution_count": 63,
     "metadata": {},
     "output_type": "execute_result"
    }
   ],
   "source": [
    "# what if we just wanted the last row 30 60\n",
    "array3[:,2]"
   ]
  },
  {
   "cell_type": "markdown",
   "id": "a87b2d40-20ed-434a-b51f-f5360678ef38",
   "metadata": {},
   "source": [
    "### Statistical functions"
   ]
  },
  {
   "cell_type": "markdown",
   "id": "ef34a34c-b74a-412d-9ab0-d4f5219a9a1d",
   "metadata": {},
   "source": [
    "There are many buit in statistical functions you can use:"
   ]
  },
  {
   "cell_type": "code",
   "execution_count": 65,
   "id": "025a9697-9391-4fed-bff7-a42cd2e567c5",
   "metadata": {},
   "outputs": [
    {
     "name": "stdout",
     "output_type": "stream",
     "text": [
      "210\n"
     ]
    }
   ],
   "source": [
    "# Sum of all values\n",
    "print(array3.sum())"
   ]
  },
  {
   "cell_type": "code",
   "execution_count": 66,
   "id": "992f1794-9fc9-48aa-80e3-b66bda0888eb",
   "metadata": {},
   "outputs": [
    {
     "name": "stdout",
     "output_type": "stream",
     "text": [
      "[50 70 90]\n"
     ]
    }
   ],
   "source": [
    "# Sum of all values columns wise\n",
    "print(array3.sum(0))"
   ]
  },
  {
   "cell_type": "code",
   "execution_count": 67,
   "id": "b8a1bf9d-3a26-4c42-bb50-579915be1f0b",
   "metadata": {},
   "outputs": [
    {
     "name": "stdout",
     "output_type": "stream",
     "text": [
      "[ 60 150]\n"
     ]
    }
   ],
   "source": [
    "# Sum of all values rows wise\n",
    "print(array3.sum(1))"
   ]
  },
  {
   "cell_type": "code",
   "execution_count": 68,
   "id": "d88c213a-7ff4-4021-bc26-8b09c1b9df40",
   "metadata": {},
   "outputs": [
    {
     "name": "stdout",
     "output_type": "stream",
     "text": [
      "35.0\n"
     ]
    }
   ],
   "source": [
    "# find the mean\n",
    "print(array3.mean())"
   ]
  },
  {
   "cell_type": "code",
   "execution_count": 69,
   "id": "a2abde3a-ff5d-40de-b0b5-36e1bac65b58",
   "metadata": {},
   "outputs": [
    {
     "name": "stdout",
     "output_type": "stream",
     "text": [
      "17.07825127659933\n"
     ]
    }
   ],
   "source": [
    "# find the standard deviation\n",
    "print(array3.std())"
   ]
  },
  {
   "cell_type": "code",
   "execution_count": 70,
   "id": "1049e4fc-5735-4f8b-8853-2e24c951a1e7",
   "metadata": {},
   "outputs": [
    {
     "name": "stdout",
     "output_type": "stream",
     "text": [
      "291.6666666666667\n"
     ]
    }
   ],
   "source": [
    "# find the varience\n",
    "print(array3.var())"
   ]
  },
  {
   "cell_type": "code",
   "execution_count": 71,
   "id": "c72746c0-5952-4362-9e54-919fd7148e6c",
   "metadata": {},
   "outputs": [
    {
     "name": "stdout",
     "output_type": "stream",
     "text": [
      "10\n"
     ]
    }
   ],
   "source": [
    "# find the min\n",
    "print(array3.min())"
   ]
  },
  {
   "cell_type": "code",
   "execution_count": 72,
   "id": "278a0ac2-349f-432b-a0ec-c5ae79ffa41b",
   "metadata": {},
   "outputs": [
    {
     "name": "stdout",
     "output_type": "stream",
     "text": [
      "60\n"
     ]
    }
   ],
   "source": [
    "# find the max\n",
    "print(array3.max())"
   ]
  },
  {
   "cell_type": "markdown",
   "id": "4802db21-c94c-448b-9470-0d0cc7d8d5f0",
   "metadata": {},
   "source": [
    "### Iterating through ndarrays"
   ]
  },
  {
   "cell_type": "code",
   "execution_count": 74,
   "id": "5fbc707a-2a5a-4987-bc44-34b8336e5512",
   "metadata": {},
   "outputs": [
    {
     "name": "stdout",
     "output_type": "stream",
     "text": [
      "10\n",
      "20\n",
      "30\n"
     ]
    }
   ],
   "source": [
    "# 1d array\n",
    "for x in array1:\n",
    "    print(x)"
   ]
  },
  {
   "cell_type": "code",
   "execution_count": 75,
   "id": "34160070-1522-4674-921b-687184983d4c",
   "metadata": {},
   "outputs": [
    {
     "name": "stdout",
     "output_type": "stream",
     "text": [
      "10\n",
      "20\n",
      "30\n",
      "40\n",
      "50\n",
      "60\n"
     ]
    }
   ],
   "source": [
    "# nd arrays nested loops\n",
    "for dim in array3:\n",
    "    for num in dim:\n",
    "        print(num)"
   ]
  },
  {
   "cell_type": "code",
   "execution_count": 76,
   "id": "032c7c71-5f03-47b0-9162-4d858b0269f9",
   "metadata": {},
   "outputs": [
    {
     "name": "stdout",
     "output_type": "stream",
     "text": [
      "10\n",
      "20\n",
      "30\n",
      "40\n",
      "50\n",
      "60\n"
     ]
    }
   ],
   "source": [
    "# alternative to nd arrays nested loops - ndtiter\n",
    "# tends to be cleaner than nested loops in most cases(regarding ndarrays)\n",
    "for x in np.nditer(array3):\n",
    "    print(x)"
   ]
  },
  {
   "cell_type": "markdown",
   "id": "485fe494-dd8b-4c9a-bc03-56f176f020da",
   "metadata": {},
   "source": [
    "### Saving and Loading in numpy"
   ]
  },
  {
   "cell_type": "code",
   "execution_count": 79,
   "id": "39b3900b-48b4-4d2e-9100-a88f811b71b4",
   "metadata": {},
   "outputs": [],
   "source": [
    "# to save an array to a file\n",
    "np.save(\"new\", array3)"
   ]
  },
  {
   "cell_type": "code",
   "execution_count": 78,
   "id": "78ff56ec-b8c2-4fa0-8df8-b8d6d089ac5c",
   "metadata": {},
   "outputs": [
    {
     "data": {
      "text/plain": [
       "array([[10, 20, 30],\n",
       "       [40, 50, 60]])"
      ]
     },
     "execution_count": 78,
     "metadata": {},
     "output_type": "execute_result"
    }
   ],
   "source": [
    "np.load(\"new.npy\")"
   ]
  },
  {
   "cell_type": "code",
   "execution_count": 81,
   "id": "5eb911a5-3a58-4767-aa64-f0a928ec3013",
   "metadata": {},
   "outputs": [],
   "source": [
    "# saving as .txt\n",
    "np.savetxt(\"next.txt\", array3, delimiter=\",\")"
   ]
  },
  {
   "cell_type": "code",
   "execution_count": 82,
   "id": "ec13f47e-432c-48fa-b193-74b4f0ab72c1",
   "metadata": {},
   "outputs": [
    {
     "data": {
      "text/plain": [
       "array([[10., 20., 30.],\n",
       "       [40., 50., 60.]])"
      ]
     },
     "execution_count": 82,
     "metadata": {},
     "output_type": "execute_result"
    }
   ],
   "source": [
    "# load .txt\n",
    "np.loadtxt(\"next.txt\", delimiter=\",\")"
   ]
  },
  {
   "cell_type": "code",
   "execution_count": null,
   "id": "1357913d-cf77-4183-900c-921e833a2318",
   "metadata": {},
   "outputs": [],
   "source": []
  }
 ],
 "metadata": {
  "kernelspec": {
   "display_name": "Python 3 (ipykernel)",
   "language": "python",
   "name": "python3"
  },
  "language_info": {
   "codemirror_mode": {
    "name": "ipython",
    "version": 3
   },
   "file_extension": ".py",
   "mimetype": "text/x-python",
   "name": "python",
   "nbconvert_exporter": "python",
   "pygments_lexer": "ipython3",
   "version": "3.13.5"
  }
 },
 "nbformat": 4,
 "nbformat_minor": 5
}
